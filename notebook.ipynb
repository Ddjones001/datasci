{
 "cells": [
  {
   "cell_type": "code",
   "execution_count": 120,
   "metadata": {
    "dc": {
     "key": "4"
    },
    "tags": [
     "sample_code"
    ],
    "trusted": true
   },
   "outputs": [
    {
     "name": "stdout",
     "output_type": "stream",
     "text": [
      "['price', 'discount', 'promotion', 'promo', 'buy', 'shop']\n"
     ]
    }
   ],
   "source": [
    "# List of words to pair with products\n",
    "words = ['price','discount','promotion','promo','buy','shop']\n",
    "\n",
    "# Print list of words\n",
    "# ... YOUR CODE FOR TASK 1 ...\n",
    "print(words)"
   ]
  },
  {
   "cell_type": "code",
   "execution_count": 122,
   "metadata": {
    "dc": {
     "key": "11"
    },
    "tags": [
     "sample_code"
    ],
    "trusted": true
   },
   "outputs": [
    {
     "name": "stdout",
     "output_type": "stream",
     "text": [
      "[['sofas', 'sofas price'],\n ['sofas', 'price sofas'],\n ['sofas', 'sofas discount'],\n ['sofas', 'discount sofas'],\n ['sofas', 'sofas promotion'],\n ['sofas', 'promotion sofas'],\n ['sofas', 'sofas promo'],\n ['sofas', 'promo sofas'],\n ['sofas', 'sofas buy'],\n ['sofas', 'buy sofas'],\n ['sofas', 'sofas shop'],\n ['sofas', 'shop sofas'],\n ['convertible sofas', 'convertible sofas price'],\n ['convertible sofas', 'price convertible sofas'],\n ['convertible sofas', 'convertible sofas discount'],\n ['convertible sofas', 'discount convertible sofas'],\n ['convertible sofas', 'convertible sofas promotion'],\n ['convertible sofas', 'promotion convertible sofas'],\n ['convertible sofas', 'convertible sofas promo'],\n ['convertible sofas', 'promo convertible sofas'],\n ['convertible sofas', 'convertible sofas buy'],\n ['convertible sofas', 'buy convertible sofas'],\n ['convertible sofas', 'convertible sofas shop'],\n ['convertible sofas', 'shop convertible sofas'],\n ['love seats', 'love seats price'],\n ['love seats', 'price love seats'],\n ['love seats', 'love seats discount'],\n ['love seats', 'discount love seats'],\n ['love seats', 'love seats promotion'],\n ['love seats', 'promotion love seats'],\n ['love seats', 'love seats promo'],\n ['love seats', 'promo love seats'],\n ['love seats', 'love seats buy'],\n ['love seats', 'buy love seats'],\n ['love seats', 'love seats shop'],\n ['love seats', 'shop love seats'],\n ['recliners', 'recliners price'],\n ['recliners', 'price recliners'],\n ['recliners', 'recliners discount'],\n ['recliners', 'discount recliners'],\n ['recliners', 'recliners promotion'],\n ['recliners', 'promotion recliners'],\n ['recliners', 'recliners promo'],\n ['recliners', 'promo recliners'],\n ['recliners', 'recliners buy'],\n ['recliners', 'buy recliners'],\n ['recliners', 'recliners shop'],\n ['recliners', 'shop recliners'],\n ['sofa beds', 'sofa beds price'],\n ['sofa beds', 'price sofa beds'],\n ['sofa beds', 'sofa beds discount'],\n ['sofa beds', 'discount sofa beds'],\n ['sofa beds', 'sofa beds promotion'],\n ['sofa beds', 'promotion sofa beds'],\n ['sofa beds', 'sofa beds promo'],\n ['sofa beds', 'promo sofa beds'],\n ['sofa beds', 'sofa beds buy'],\n ['sofa beds', 'buy sofa beds'],\n ['sofa beds', 'sofa beds shop'],\n ['sofa beds', 'shop sofa beds']]\n"
     ]
    }
   ],
   "source": [
    "products = ['sofas', 'convertible sofas', 'love seats', 'recliners', 'sofa beds']\n",
    "\n",
    "# Create an empty list\n",
    "keywords_list = []\n",
    "\n",
    "# Loop through products\n",
    "for product in products:\n",
    "    # Loop through words\n",
    "    for word in words:\n",
    "        # Append combinations\n",
    "        keywords_list.append([product, product + ' ' + word])\n",
    "        keywords_list.append([product, word + ' ' + product])\n",
    "        \n",
    "# Inspect keyword list\n",
    "from pprint import pprint\n",
    "pprint(keywords_list)"
   ]
  },
  {
   "cell_type": "code",
   "execution_count": 124,
   "metadata": {
    "dc": {
     "key": "18"
    },
    "tags": [
     "sample_code"
    ],
    "trusted": true
   },
   "outputs": [
    {
     "name": "stdout",
     "output_type": "stream",
     "text": [
      "       0                1\n0  sofas      sofas price\n1  sofas      price sofas\n2  sofas   sofas discount\n3  sofas   discount sofas\n4  sofas  sofas promotion\n"
     ]
    }
   ],
   "source": [
    "# Load library\n",
    "# ... YOUR CODE FOR TASK 3 ...\n",
    "import pandas as pd\n",
    "\n",
    "# Create a DataFrame from list\n",
    "keywords_df = pd.DataFrame(keywords_list)\n",
    "\n",
    "# Print the keywords DataFrame to explore it\n",
    "# ... YOUR CODE FOR TASK 3 ...\n",
    "print(keywords_df.head())"
   ]
  },
  {
   "cell_type": "code",
   "execution_count": 126,
   "metadata": {
    "dc": {
     "key": "25"
    },
    "tags": [
     "sample_code"
    ],
    "trusted": true
   },
   "outputs": [
    {
     "name": "stdout",
     "output_type": "stream",
     "text": [
      "  Ad Group          Keyword\n0    sofas      sofas price\n1    sofas      price sofas\n2    sofas   sofas discount\n3    sofas   discount sofas\n4    sofas  sofas promotion\n"
     ]
    }
   ],
   "source": [
    "# Rename the columns of the DataFrame\n",
    "keywords_df = keywords_df.rename(columns={0: 'Ad Group', 1 : 'Keyword'})\n",
    "print(keywords_df.head())"
   ]
  },
  {
   "cell_type": "code",
   "execution_count": 128,
   "metadata": {
    "dc": {
     "key": "32"
    },
    "tags": [
     "sample_code"
    ],
    "trusted": true
   },
   "outputs": [
    {
     "name": "stdout",
     "output_type": "stream",
     "text": [
      "  Ad Group          Keyword   Campaign\n0    sofas      sofas price  SEM_Sofas\n1    sofas      price sofas  SEM_Sofas\n2    sofas   sofas discount  SEM_Sofas\n3    sofas   discount sofas  SEM_Sofas\n4    sofas  sofas promotion  SEM_Sofas\n"
     ]
    }
   ],
   "source": [
    "# Add a campaign column\n",
    "# ... YOUR CODE FOR TASK 5 ...\n",
    "\n",
    "keywords_df['Campaign'] = 'SEM_Sofas'\n",
    "print(keywords_df.head())"
   ]
  },
  {
   "cell_type": "code",
   "execution_count": 130,
   "metadata": {
    "dc": {
     "key": "39"
    },
    "tags": [
     "sample_code"
    ],
    "trusted": true
   },
   "outputs": [
    {
     "name": "stdout",
     "output_type": "stream",
     "text": [
      "  Ad Group          Keyword   Campaign Criterion Type\n0    sofas      sofas price  SEM_Sofas          Exact\n1    sofas      price sofas  SEM_Sofas          Exact\n2    sofas   sofas discount  SEM_Sofas          Exact\n3    sofas   discount sofas  SEM_Sofas          Exact\n4    sofas  sofas promotion  SEM_Sofas          Exact\n"
     ]
    }
   ],
   "source": [
    "# Add a criterion type column\n",
    "# ... YOUR CODE FOR TASK 6 ...\n",
    "keywords_df['Criterion Type'] = 'Exact'\n",
    "print(keywords_df.head())"
   ]
  },
  {
   "cell_type": "code",
   "execution_count": 137,
   "metadata": {
    "dc": {
     "key": "46"
    },
    "tags": [
     "sample_code"
    ],
    "trusted": true
   },
   "outputs": [
    {
     "ename": "AttributeError",
     "evalue": "'DataFrame' object has no attribute 'concat'",
     "traceback": [
      "---------------------------------------------------------------------------",
      "AttributeError                            Traceback (most recent call last)",
      "<ipython-input-137-e516de483ab0> in <module>()\n      7 \n      8 # Append the DataFrames\n----> 9 keywords_df_final = keywords_df.concat(keywords_phrase)\n     10 print(keywords_df_final)\n",
      "/usr/local/lib/python3.5/dist-packages/pandas/core/generic.py in __getattr__(self, name)\n   4374             if self._info_axis._can_hold_identifiers_and_holds_name(name):\n   4375                 return self[name]\n-> 4376             return object.__getattribute__(self, name)\n   4377 \n   4378     def __setattr__(self, name, value):\n",
      "AttributeError: 'DataFrame' object has no attribute 'concat'"
     ],
     "output_type": "error"
    }
   ],
   "source": [
    "# Make a copy of the keywords DataFrame\n",
    "keywords_phrase = keywords_df.copy()\n",
    "\n",
    "# Change criterion type match to phrase\n",
    "# ... YOUR CODE FOR TASK 7 ...\n",
    "keywords_phrase['Criterion Type'] = 'Phrase'\n",
    "\n",
    "# Append the DataFrames\n",
    "keywords_df_final = pd.concat([keywords_dfkeywords_phrase)\n",
    "print(keywords_df_final)"
   ]
  },
  {
   "cell_type": "code",
   "execution_count": 134,
   "metadata": {
    "dc": {
     "key": "53"
    },
    "tags": [
     "sample_code"
    ],
    "trusted": true
   },
   "outputs": [
    {
     "ename": "KeyError",
     "evalue": "'Ad Group'",
     "traceback": [
      "---------------------------------------------------------------------------",
      "KeyError                                  Traceback (most recent call last)",
      "<ipython-input-134-27d087b4c3d3> in <module>()\n      4 \n      5 # View a summary of our campaign work\n----> 6 summary = keywords_df_final.groupby(['Ad Group', 'Criterion Type'])['Keyword'].count()\n      7 print(summary)\n",
      "/usr/local/lib/python3.5/dist-packages/pandas/core/generic.py in groupby(self, by, axis, level, as_index, sort, group_keys, squeeze, observed, **kwargs)\n   6663         return groupby(self, by=by, axis=axis, level=level, as_index=as_index,\n   6664                        sort=sort, group_keys=group_keys, squeeze=squeeze,\n-> 6665                        observed=observed, **kwargs)\n   6666 \n   6667     def asfreq(self, freq, method=None, how=None, normalize=False,\n",
      "/usr/local/lib/python3.5/dist-packages/pandas/core/groupby/groupby.py in groupby(obj, by, **kwds)\n   2150         raise TypeError('invalid type: %s' % type(obj))\n   2151 \n-> 2152     return klass(obj, by, **kwds)\n   2153 \n   2154 \n",
      "/usr/local/lib/python3.5/dist-packages/pandas/core/groupby/groupby.py in __init__(self, obj, keys, axis, level, grouper, exclusions, selection, as_index, sort, group_keys, squeeze, observed, **kwargs)\n    597                                                     sort=sort,\n    598                                                     observed=observed,\n--> 599                                                     mutated=self.mutated)\n    600 \n    601         self.obj = obj\n",
      "/usr/local/lib/python3.5/dist-packages/pandas/core/groupby/groupby.py in _get_grouper(obj, key, axis, level, sort, observed, mutated, validate)\n   3289                 in_axis, name, level, gpr = False, None, gpr, None\n   3290             else:\n-> 3291                 raise KeyError(gpr)\n   3292         elif isinstance(gpr, Grouper) and gpr.key is not None:\n   3293             # Add key to exclusions\n",
      "KeyError: 'Ad Group'"
     ],
     "output_type": "error"
    }
   ],
   "source": [
    "# Save the final keywords to a CSV file\n",
    "# ... YOUR CODE FOR TASK 8 ...\n",
    "keywords_df_final.to_csv('keywords.csv', index=False)\n",
    "\n",
    "# View a summary of our campaign work\n",
    "summary = keywords_df_final.groupby(['Ad Group', 'Criterion Type'])['Keyword'].count()\n",
    "print(summary)"
   ]
  }
 ],
 "metadata": {
  "kernelspec": {
   "language": "python",
   "display_name": "Python 3",
   "name": "python3"
  },
  "language_info": {
   "file_extension": ".py",
   "pygments_lexer": "ipython3",
   "name": "python",
   "nbconvert_exporter": "python",
   "codemirror_mode": {
    "version": 3,
    "name": "ipython"
   },
   "version": "3.5.2",
   "mimetype": "text/x-python"
  }
 },
 "nbformat": 4,
 "nbformat_minor": 2
}
